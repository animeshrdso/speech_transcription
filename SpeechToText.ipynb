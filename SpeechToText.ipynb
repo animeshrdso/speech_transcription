{
  "nbformat": 4,
  "nbformat_minor": 0,
  "metadata": {
    "colab": {
      "name": "SpeechToText.ipynb",
      "provenance": [],
      "collapsed_sections": []
    },
    "kernelspec": {
      "name": "python3",
      "display_name": "Python 3"
    }
  },
  "cells": [
    {
      "cell_type": "markdown",
      "metadata": {
        "id": "huK_-P8wUNFU"
      },
      "source": [
        "This notebook makes use of IBM Watsons Speech2Text api for multi-lingual transcription."
      ]
    },
    {
      "cell_type": "code",
      "metadata": {
        "colab": {
          "base_uri": "https://localhost:8080/"
        },
        "id": "vCoKgndK8PR5",
        "outputId": "f38789b6-5609-44cd-f5a3-b2d7e56e9ce1"
      },
      "source": [
        "from google.colab import drive\r\n",
        "drive.mount('/content/gdrive')"
      ],
      "execution_count": null,
      "outputs": [
        {
          "output_type": "stream",
          "text": [
            "Drive already mounted at /content/gdrive; to attempt to forcibly remount, call drive.mount(\"/content/gdrive\", force_remount=True).\n"
          ],
          "name": "stdout"
        }
      ]
    },
    {
      "cell_type": "code",
      "metadata": {
        "colab": {
          "base_uri": "https://localhost:8080/"
        },
        "id": "FfAU1wIe8Qc_",
        "outputId": "3d92910a-09e6-4d58-ede4-96e606b37207"
      },
      "source": [
        "%cd /content/gdrive/My Drive/speech2text/"
      ],
      "execution_count": null,
      "outputs": [
        {
          "output_type": "stream",
          "text": [
            "/content/gdrive/My Drive/speech2text\n"
          ],
          "name": "stdout"
        }
      ]
    },
    {
      "cell_type": "code",
      "metadata": {
        "id": "yi2pdfgkmB3a",
        "colab": {
          "base_uri": "https://localhost:8080/"
        },
        "outputId": "e915330b-cf18-44eb-e76e-8f860e62f525"
      },
      "source": [
        "!pip install ibm_watson"
      ],
      "execution_count": null,
      "outputs": [
        {
          "output_type": "stream",
          "text": [
            "Requirement already satisfied: ibm_watson in /usr/local/lib/python3.6/dist-packages (5.1.0)\n",
            "Requirement already satisfied: websocket-client==0.48.0 in /usr/local/lib/python3.6/dist-packages (from ibm_watson) (0.48.0)\n",
            "Requirement already satisfied: requests<3.0,>=2.0 in /usr/local/lib/python3.6/dist-packages (from ibm_watson) (2.23.0)\n",
            "Requirement already satisfied: python-dateutil>=2.5.3 in /usr/local/lib/python3.6/dist-packages (from ibm_watson) (2.8.1)\n",
            "Requirement already satisfied: ibm-cloud-sdk-core>=3.3.6 in /usr/local/lib/python3.6/dist-packages (from ibm_watson) (3.5.2)\n",
            "Requirement already satisfied: six in /usr/local/lib/python3.6/dist-packages (from websocket-client==0.48.0->ibm_watson) (1.15.0)\n",
            "Requirement already satisfied: urllib3!=1.25.0,!=1.25.1,<1.26,>=1.21.1 in /usr/local/lib/python3.6/dist-packages (from requests<3.0,>=2.0->ibm_watson) (1.24.3)\n",
            "Requirement already satisfied: chardet<4,>=3.0.2 in /usr/local/lib/python3.6/dist-packages (from requests<3.0,>=2.0->ibm_watson) (3.0.4)\n",
            "Requirement already satisfied: certifi>=2017.4.17 in /usr/local/lib/python3.6/dist-packages (from requests<3.0,>=2.0->ibm_watson) (2020.12.5)\n",
            "Requirement already satisfied: idna<3,>=2.5 in /usr/local/lib/python3.6/dist-packages (from requests<3.0,>=2.0->ibm_watson) (2.10)\n",
            "Requirement already satisfied: PyJWT<3.0.0,>=2.0.1 in /usr/local/lib/python3.6/dist-packages (from ibm-cloud-sdk-core>=3.3.6->ibm_watson) (2.0.1)\n"
          ],
          "name": "stdout"
        }
      ]
    },
    {
      "cell_type": "code",
      "metadata": {
        "id": "l-EURbWX4VmQ"
      },
      "source": [
        "from ibm_watson import SpeechToTextV1\r\n",
        "from ibm_watson.websocket import RecognizeCallback, AudioSource \r\n",
        "from ibm_cloud_sdk_core.authenticators import IAMAuthenticator"
      ],
      "execution_count": null,
      "outputs": []
    },
    {
      "cell_type": "code",
      "metadata": {
        "id": "j5UHXhAY4VjI"
      },
      "source": [
        "apikey = '1tJFvBBzJilUYSD9PyEf8GsJAk7I9G6PoGayb2nOXtJX'\r\n",
        "url = 'https://api.eu-gb.speech-to-text.watson.cloud.ibm.com/instances/13ac2b7a-9c86-4514-8803-5fe1759bfec9'"
      ],
      "execution_count": null,
      "outputs": []
    },
    {
      "cell_type": "code",
      "metadata": {
        "id": "33rF_jzv4VhD"
      },
      "source": [
        "authenticator = IAMAuthenticator(apikey)\r\n",
        "stt = SpeechToTextV1(authenticator=authenticator)\r\n",
        "stt.set_service_url(url)"
      ],
      "execution_count": null,
      "outputs": []
    },
    {
      "cell_type": "code",
      "metadata": {
        "id": "dBQ_ysu94VeZ"
      },
      "source": [
        "with open('demo_speech2txt.mp3', 'rb') as f:\r\n",
        "    res = stt.recognize(audio=f, content_type='audio/mp3', model='en-US_NarrowbandModel', continuous=True).get_result()"
      ],
      "execution_count": null,
      "outputs": []
    },
    {
      "cell_type": "code",
      "metadata": {
        "id": "nPriX1Mr4VcY",
        "colab": {
          "base_uri": "https://localhost:8080/"
        },
        "outputId": "0f56eddd-c424-40f6-e0ec-594ed2d6dd95"
      },
      "source": [
        "res"
      ],
      "execution_count": null,
      "outputs": [
        {
          "output_type": "execute_result",
          "data": {
            "text/plain": [
              "{'result_index': 0,\n",
              " 'results': [{'alternatives': [{'confidence': 0.65,\n",
              "     'transcript': 'hi my name is undiminished dividing and I am a student I had a a to go R. T. '}],\n",
              "   'final': True}]}"
            ]
          },
          "metadata": {
            "tags": []
          },
          "execution_count": 18
        }
      ]
    },
    {
      "cell_type": "code",
      "metadata": {
        "id": "QRnxxpu25RT5",
        "colab": {
          "base_uri": "https://localhost:8080/",
          "height": 35
        },
        "outputId": "3ca81417-a2e7-4d50-e308-fbd41b8b6e06"
      },
      "source": [
        "text = res['results'][0]['alternatives'][0]['transcript']\r\n",
        "text"
      ],
      "execution_count": null,
      "outputs": [
        {
          "output_type": "execute_result",
          "data": {
            "application/vnd.google.colaboratory.intrinsic+json": {
              "type": "string"
            },
            "text/plain": [
              "'hi my name is undiminished dividing and I am a student I had a a to go R. T. '"
            ]
          },
          "metadata": {
            "tags": []
          },
          "execution_count": 19
        }
      ]
    },
    {
      "cell_type": "code",
      "metadata": {
        "id": "IYRCIPrZ5RQ5",
        "colab": {
          "base_uri": "https://localhost:8080/"
        },
        "outputId": "ee76c5f6-6f41-43d8-8ea3-924b3c377895"
      },
      "source": [
        "confidence = res['results'][0]['alternatives'][0]['confidence']\r\n",
        "confidence"
      ],
      "execution_count": null,
      "outputs": [
        {
          "output_type": "execute_result",
          "data": {
            "text/plain": [
              "0.65"
            ]
          },
          "metadata": {
            "tags": []
          },
          "execution_count": 20
        }
      ]
    },
    {
      "cell_type": "code",
      "metadata": {
        "id": "W1r3aVRC5dgf"
      },
      "source": [
        "#with open('output.txt', 'w') as out:\r\n",
        "#    out.writelines(text)"
      ],
      "execution_count": null,
      "outputs": []
    }
  ]
}