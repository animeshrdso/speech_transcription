{
  "nbformat": 4,
  "nbformat_minor": 0,
  "metadata": {
    "colab": {
      "name": "SpeechToText.ipynb",
      "provenance": [],
      "collapsed_sections": []
    },
    "kernelspec": {
      "name": "python3",
      "display_name": "Python 3"
    }
  },
  "cells": [
    {
      "cell_type": "markdown",
      "metadata": {
        "id": "huK_-P8wUNFU"
      },
      "source": [
        "This notebook makes use of IBM Watsons Speech2Text api for multi-lingual transcription."
      ]
    },
    {
      "cell_type": "code",
      "metadata": {
        "colab": {
          "base_uri": "https://localhost:8080/"
        },
        "id": "vCoKgndK8PR5",
        "outputId": "73334730-4d1d-4308-fe9a-a692193d7e4a"
      },
      "source": [
        "from google.colab import drive\r\n",
        "drive.mount('/content/gdrive')"
      ],
      "execution_count": null,
      "outputs": [
        {
          "output_type": "stream",
          "text": [
            "Drive already mounted at /content/gdrive; to attempt to forcibly remount, call drive.mount(\"/content/gdrive\", force_remount=True).\n"
          ],
          "name": "stdout"
        }
      ]
    },
    {
      "cell_type": "code",
      "metadata": {
        "colab": {
          "base_uri": "https://localhost:8080/"
        },
        "id": "FfAU1wIe8Qc_",
        "outputId": "8b70c77f-b1c8-4820-ba4a-0050088de6fa"
      },
      "source": [
        "%cd /content/gdrive/My Drive/speech2text/"
      ],
      "execution_count": null,
      "outputs": [
        {
          "output_type": "stream",
          "text": [
            "/content/gdrive/My Drive/speech2text\n"
          ],
          "name": "stdout"
        }
      ]
    },
    {
      "cell_type": "code",
      "metadata": {
        "id": "yi2pdfgkmB3a",
        "colab": {
          "base_uri": "https://localhost:8080/"
        },
        "outputId": "8cdba137-ffeb-48c6-f36d-a40f604e2892"
      },
      "source": [
        "!pip install ibm_watson"
      ],
      "execution_count": null,
      "outputs": [
        {
          "output_type": "stream",
          "text": [
            "Collecting ibm_watson\n",
            "\u001b[?25l  Downloading https://files.pythonhosted.org/packages/9b/88/395d7d52df29f321ae1150cf9b5a71cef8611570230502597c427bc1e9d9/ibm-watson-5.1.0.tar.gz (382kB)\n",
            "\u001b[K     |████████████████████████████████| 389kB 4.2MB/s \n",
            "\u001b[?25hRequirement already satisfied: requests<3.0,>=2.0 in /usr/local/lib/python3.6/dist-packages (from ibm_watson) (2.23.0)\n",
            "Requirement already satisfied: python_dateutil>=2.5.3 in /usr/local/lib/python3.6/dist-packages (from ibm_watson) (2.8.1)\n",
            "Collecting websocket-client==0.48.0\n",
            "\u001b[?25l  Downloading https://files.pythonhosted.org/packages/8a/a1/72ef9aa26cfe1a75cee09fc1957e4723add9de098c15719416a1ee89386b/websocket_client-0.48.0-py2.py3-none-any.whl (198kB)\n",
            "\u001b[K     |████████████████████████████████| 204kB 14.9MB/s \n",
            "\u001b[?25hCollecting ibm_cloud_sdk_core>=3.3.6\n",
            "  Downloading https://files.pythonhosted.org/packages/e6/4f/75527af629e502681b3b4a1a8bc27626e1f056c502400b5e3df0cf1f71f6/ibm-cloud-sdk-core-3.5.2.tar.gz\n",
            "Requirement already satisfied: idna<3,>=2.5 in /usr/local/lib/python3.6/dist-packages (from requests<3.0,>=2.0->ibm_watson) (2.10)\n",
            "Requirement already satisfied: certifi>=2017.4.17 in /usr/local/lib/python3.6/dist-packages (from requests<3.0,>=2.0->ibm_watson) (2020.12.5)\n",
            "Requirement already satisfied: urllib3!=1.25.0,!=1.25.1,<1.26,>=1.21.1 in /usr/local/lib/python3.6/dist-packages (from requests<3.0,>=2.0->ibm_watson) (1.24.3)\n",
            "Requirement already satisfied: chardet<4,>=3.0.2 in /usr/local/lib/python3.6/dist-packages (from requests<3.0,>=2.0->ibm_watson) (3.0.4)\n",
            "Requirement already satisfied: six>=1.5 in /usr/local/lib/python3.6/dist-packages (from python_dateutil>=2.5.3->ibm_watson) (1.15.0)\n",
            "Collecting PyJWT<3.0.0,>=2.0.1\n",
            "  Downloading https://files.pythonhosted.org/packages/b4/9b/8850f99027ed029af6828199cc87179eaccbbf1f9e6e373e7f0177d32dad/PyJWT-2.0.1-py3-none-any.whl\n",
            "Building wheels for collected packages: ibm-watson, ibm-cloud-sdk-core\n",
            "  Building wheel for ibm-watson (setup.py) ... \u001b[?25l\u001b[?25hdone\n",
            "  Created wheel for ibm-watson: filename=ibm_watson-5.1.0-cp36-none-any.whl size=375439 sha256=21886743f601636a2d46e4d7ff2f3ad6cf2f40385449a8b76455b864327cfd8e\n",
            "  Stored in directory: /root/.cache/pip/wheels/49/6d/cf/1d91261b96363da78bf9b02699fd2262e6b5dad179500690c1\n",
            "  Building wheel for ibm-cloud-sdk-core (setup.py) ... \u001b[?25l\u001b[?25hdone\n",
            "  Created wheel for ibm-cloud-sdk-core: filename=ibm_cloud_sdk_core-3.5.2-cp36-none-any.whl size=56740 sha256=1872d9036f76fc3a3161a4846fbb017dd390bdaf18245c38bddfd8f9ca6ba70f\n",
            "  Stored in directory: /root/.cache/pip/wheels/19/1b/6e/d9534e016367801140a07c6718e68836e10b6ba574263ee03c\n",
            "Successfully built ibm-watson ibm-cloud-sdk-core\n",
            "Installing collected packages: websocket-client, PyJWT, ibm-cloud-sdk-core, ibm-watson\n",
            "Successfully installed PyJWT-2.0.1 ibm-cloud-sdk-core-3.5.2 ibm-watson-5.1.0 websocket-client-0.48.0\n"
          ],
          "name": "stdout"
        }
      ]
    },
    {
      "cell_type": "code",
      "metadata": {
        "id": "l-EURbWX4VmQ"
      },
      "source": [
        "from ibm_watson import SpeechToTextV1\r\n",
        "from ibm_watson.websocket import RecognizeCallback, AudioSource \r\n",
        "from ibm_cloud_sdk_core.authenticators import IAMAuthenticator"
      ],
      "execution_count": null,
      "outputs": []
    },
    {
      "cell_type": "code",
      "metadata": {
        "id": "j5UHXhAY4VjI"
      },
      "source": [
        "apikey = '1tJFvBBzJilUYSD9PyEf8GsJAk7I9G6PoGayb2nOXtJX'\r\n",
        "url = 'https://api.eu-gb.speech-to-text.watson.cloud.ibm.com/instances/13ac2b7a-9c86-4514-8803-5fe1759bfec9'"
      ],
      "execution_count": null,
      "outputs": []
    },
    {
      "cell_type": "code",
      "metadata": {
        "id": "33rF_jzv4VhD"
      },
      "source": [
        "authenticator = IAMAuthenticator(apikey)\r\n",
        "stt = SpeechToTextV1(authenticator=authenticator)\r\n",
        "stt.set_service_url(url)"
      ],
      "execution_count": null,
      "outputs": []
    },
    {
      "cell_type": "code",
      "metadata": {
        "id": "dBQ_ysu94VeZ"
      },
      "source": [
        "with open('demo_speech2txt.mp3', 'rb') as f:\r\n",
        "    res = stt.recognize(audio=f, content_type='audio/mp3', model='en-US_NarrowbandModel', continuous=True).get_result()"
      ],
      "execution_count": null,
      "outputs": []
    },
    {
      "cell_type": "code",
      "metadata": {
        "id": "nPriX1Mr4VcY",
        "colab": {
          "base_uri": "https://localhost:8080/"
        },
        "outputId": "06636927-f458-45c7-e9df-3b2cc2909cd7"
      },
      "source": [
        "res"
      ],
      "execution_count": null,
      "outputs": [
        {
          "output_type": "execute_result",
          "data": {
            "text/plain": [
              "{'result_index': 0,\n",
              " 'results': [{'alternatives': [{'confidence': 0.65,\n",
              "     'transcript': 'hi my name is undiminished dividing and I am a student I had a a to go R. T. '}],\n",
              "   'final': True}]}"
            ]
          },
          "metadata": {
            "tags": []
          },
          "execution_count": 28
        }
      ]
    },
    {
      "cell_type": "code",
      "metadata": {
        "id": "QRnxxpu25RT5",
        "colab": {
          "base_uri": "https://localhost:8080/",
          "height": 35
        },
        "outputId": "d9246d89-3d47-4153-ef15-2b344d4a5167"
      },
      "source": [
        "text = res['results'][0]['alternatives'][0]['transcript']\r\n",
        "text"
      ],
      "execution_count": null,
      "outputs": [
        {
          "output_type": "execute_result",
          "data": {
            "application/vnd.google.colaboratory.intrinsic+json": {
              "type": "string"
            },
            "text/plain": [
              "'hi my name is undiminished dividing and I am a student I had a a to go R. T. '"
            ]
          },
          "metadata": {
            "tags": []
          },
          "execution_count": 29
        }
      ]
    },
    {
      "cell_type": "code",
      "metadata": {
        "id": "IYRCIPrZ5RQ5",
        "colab": {
          "base_uri": "https://localhost:8080/"
        },
        "outputId": "5e254c01-ad79-400e-a494-929be6879b72"
      },
      "source": [
        "confidence = res['results'][0]['alternatives'][0]['confidence']\r\n",
        "confidence"
      ],
      "execution_count": null,
      "outputs": [
        {
          "output_type": "execute_result",
          "data": {
            "text/plain": [
              "0.65"
            ]
          },
          "metadata": {
            "tags": []
          },
          "execution_count": 30
        }
      ]
    },
    {
      "cell_type": "code",
      "metadata": {
        "id": "W1r3aVRC5dgf"
      },
      "source": [
        "with open('output.txt', 'w') as out:\r\n",
        "    out.writelines(text)"
      ],
      "execution_count": null,
      "outputs": []
    },
    {
      "cell_type": "code",
      "metadata": {
        "id": "YiJ26F6kgem_"
      },
      "source": [
        ""
      ],
      "execution_count": null,
      "outputs": []
    },
    {
      "cell_type": "markdown",
      "metadata": {
        "id": "g8qk_JWflqy9"
      },
      "source": [
        "Google's API (Paid API/ give 300$ credit initially)"
      ]
    },
    {
      "cell_type": "code",
      "metadata": {
        "colab": {
          "base_uri": "https://localhost:8080/"
        },
        "id": "FuX8hAo8lvNR",
        "outputId": "1b4333f4-c0a5-4882-b475-b7a2635966bb"
      },
      "source": [
        "!pip install --upgrade google-cloud-speech"
      ],
      "execution_count": null,
      "outputs": [
        {
          "output_type": "stream",
          "text": [
            "Requirement already up-to-date: google-cloud-speech in /usr/local/lib/python3.6/dist-packages (2.0.1)\n",
            "Requirement already satisfied, skipping upgrade: google-api-core[grpc]<2.0.0dev,>=1.22.2 in /usr/local/lib/python3.6/dist-packages (from google-cloud-speech) (1.26.0)\n",
            "Requirement already satisfied, skipping upgrade: proto-plus>=1.4.0 in /usr/local/lib/python3.6/dist-packages (from google-cloud-speech) (1.13.0)\n",
            "Requirement already satisfied, skipping upgrade: libcst>=0.2.5 in /usr/local/lib/python3.6/dist-packages (from google-cloud-speech) (0.3.17)\n",
            "Requirement already satisfied, skipping upgrade: googleapis-common-protos<2.0dev,>=1.6.0 in /usr/local/lib/python3.6/dist-packages (from google-api-core[grpc]<2.0.0dev,>=1.22.2->google-cloud-speech) (1.52.0)\n",
            "Requirement already satisfied, skipping upgrade: setuptools>=40.3.0 in /usr/local/lib/python3.6/dist-packages (from google-api-core[grpc]<2.0.0dev,>=1.22.2->google-cloud-speech) (53.0.0)\n",
            "Requirement already satisfied, skipping upgrade: six>=1.13.0 in /usr/local/lib/python3.6/dist-packages (from google-api-core[grpc]<2.0.0dev,>=1.22.2->google-cloud-speech) (1.15.0)\n",
            "Requirement already satisfied, skipping upgrade: requests<3.0.0dev,>=2.18.0 in /usr/local/lib/python3.6/dist-packages (from google-api-core[grpc]<2.0.0dev,>=1.22.2->google-cloud-speech) (2.23.0)\n",
            "Requirement already satisfied, skipping upgrade: protobuf>=3.12.0 in /usr/local/lib/python3.6/dist-packages (from google-api-core[grpc]<2.0.0dev,>=1.22.2->google-cloud-speech) (3.12.4)\n",
            "Requirement already satisfied, skipping upgrade: pytz in /usr/local/lib/python3.6/dist-packages (from google-api-core[grpc]<2.0.0dev,>=1.22.2->google-cloud-speech) (2018.9)\n",
            "Requirement already satisfied, skipping upgrade: packaging>=14.3 in /usr/local/lib/python3.6/dist-packages (from google-api-core[grpc]<2.0.0dev,>=1.22.2->google-cloud-speech) (20.9)\n",
            "Requirement already satisfied, skipping upgrade: google-auth<2.0dev,>=1.21.1 in /usr/local/lib/python3.6/dist-packages (from google-api-core[grpc]<2.0.0dev,>=1.22.2->google-cloud-speech) (1.25.0)\n",
            "Requirement already satisfied, skipping upgrade: grpcio<2.0dev,>=1.29.0; extra == \"grpc\" in /usr/local/lib/python3.6/dist-packages (from google-api-core[grpc]<2.0.0dev,>=1.22.2->google-cloud-speech) (1.32.0)\n",
            "Requirement already satisfied, skipping upgrade: typing-inspect>=0.4.0 in /usr/local/lib/python3.6/dist-packages (from libcst>=0.2.5->google-cloud-speech) (0.6.0)\n",
            "Requirement already satisfied, skipping upgrade: dataclasses>=0.6.0; python_version < \"3.7\" in /usr/local/lib/python3.6/dist-packages (from libcst>=0.2.5->google-cloud-speech) (0.8)\n",
            "Requirement already satisfied, skipping upgrade: typing-extensions>=3.7.4.2 in /usr/local/lib/python3.6/dist-packages (from libcst>=0.2.5->google-cloud-speech) (3.7.4.3)\n",
            "Requirement already satisfied, skipping upgrade: pyyaml>=5.2 in /usr/local/lib/python3.6/dist-packages (from libcst>=0.2.5->google-cloud-speech) (5.4.1)\n",
            "Requirement already satisfied, skipping upgrade: urllib3!=1.25.0,!=1.25.1,<1.26,>=1.21.1 in /usr/local/lib/python3.6/dist-packages (from requests<3.0.0dev,>=2.18.0->google-api-core[grpc]<2.0.0dev,>=1.22.2->google-cloud-speech) (1.24.3)\n",
            "Requirement already satisfied, skipping upgrade: idna<3,>=2.5 in /usr/local/lib/python3.6/dist-packages (from requests<3.0.0dev,>=2.18.0->google-api-core[grpc]<2.0.0dev,>=1.22.2->google-cloud-speech) (2.10)\n",
            "Requirement already satisfied, skipping upgrade: certifi>=2017.4.17 in /usr/local/lib/python3.6/dist-packages (from requests<3.0.0dev,>=2.18.0->google-api-core[grpc]<2.0.0dev,>=1.22.2->google-cloud-speech) (2020.12.5)\n",
            "Requirement already satisfied, skipping upgrade: chardet<4,>=3.0.2 in /usr/local/lib/python3.6/dist-packages (from requests<3.0.0dev,>=2.18.0->google-api-core[grpc]<2.0.0dev,>=1.22.2->google-cloud-speech) (3.0.4)\n",
            "Requirement already satisfied, skipping upgrade: pyparsing>=2.0.2 in /usr/local/lib/python3.6/dist-packages (from packaging>=14.3->google-api-core[grpc]<2.0.0dev,>=1.22.2->google-cloud-speech) (2.4.7)\n",
            "Requirement already satisfied, skipping upgrade: cachetools<5.0,>=2.0.0 in /usr/local/lib/python3.6/dist-packages (from google-auth<2.0dev,>=1.21.1->google-api-core[grpc]<2.0.0dev,>=1.22.2->google-cloud-speech) (4.2.1)\n",
            "Requirement already satisfied, skipping upgrade: rsa<5,>=3.1.4; python_version >= \"3.6\" in /usr/local/lib/python3.6/dist-packages (from google-auth<2.0dev,>=1.21.1->google-api-core[grpc]<2.0.0dev,>=1.22.2->google-cloud-speech) (4.7)\n",
            "Requirement already satisfied, skipping upgrade: pyasn1-modules>=0.2.1 in /usr/local/lib/python3.6/dist-packages (from google-auth<2.0dev,>=1.21.1->google-api-core[grpc]<2.0.0dev,>=1.22.2->google-cloud-speech) (0.2.8)\n",
            "Requirement already satisfied, skipping upgrade: mypy-extensions>=0.3.0 in /usr/local/lib/python3.6/dist-packages (from typing-inspect>=0.4.0->libcst>=0.2.5->google-cloud-speech) (0.4.3)\n",
            "Requirement already satisfied, skipping upgrade: pyasn1>=0.1.3 in /usr/local/lib/python3.6/dist-packages (from rsa<5,>=3.1.4; python_version >= \"3.6\"->google-auth<2.0dev,>=1.21.1->google-api-core[grpc]<2.0.0dev,>=1.22.2->google-cloud-speech) (0.4.8)\n"
          ],
          "name": "stdout"
        }
      ]
    },
    {
      "cell_type": "code",
      "metadata": {
        "colab": {
          "base_uri": "https://localhost:8080/"
        },
        "id": "JIe2zpArvlC3",
        "outputId": "94b97804-b4bd-4b10-f4ee-f37284b18bd0"
      },
      "source": [
        "!pip install gapic-google-cloud-speech-v1"
      ],
      "execution_count": null,
      "outputs": [
        {
          "output_type": "stream",
          "text": [
            "Requirement already satisfied: gapic-google-cloud-speech-v1 in /usr/local/lib/python3.6/dist-packages (0.15.3)\n",
            "Requirement already satisfied: googleapis-common-protos[grpc]<2.0dev,>=1.5.2 in /usr/local/lib/python3.6/dist-packages (from gapic-google-cloud-speech-v1) (1.52.0)\n",
            "Requirement already satisfied: google-gax<0.16dev,>=0.15.7 in /usr/local/lib/python3.6/dist-packages (from gapic-google-cloud-speech-v1) (0.15.16)\n",
            "Requirement already satisfied: oauth2client<4.0dev,>=2.0.0 in /usr/local/lib/python3.6/dist-packages (from gapic-google-cloud-speech-v1) (3.0.0)\n",
            "Requirement already satisfied: proto-google-cloud-speech-v1[grpc]<0.16dev,>=0.15.3 in /usr/local/lib/python3.6/dist-packages (from gapic-google-cloud-speech-v1) (0.15.3)\n",
            "Requirement already satisfied: protobuf>=3.6.0 in /usr/local/lib/python3.6/dist-packages (from googleapis-common-protos[grpc]<2.0dev,>=1.5.2->gapic-google-cloud-speech-v1) (3.12.4)\n",
            "Requirement already satisfied: grpcio>=1.0.0; extra == \"grpc\" in /usr/local/lib/python3.6/dist-packages (from googleapis-common-protos[grpc]<2.0dev,>=1.5.2->gapic-google-cloud-speech-v1) (1.32.0)\n",
            "Requirement already satisfied: ply==3.8 in /usr/local/lib/python3.6/dist-packages (from google-gax<0.16dev,>=0.15.7->gapic-google-cloud-speech-v1) (3.8)\n",
            "Requirement already satisfied: dill<0.3dev,>=0.2.5 in /usr/local/lib/python3.6/dist-packages (from google-gax<0.16dev,>=0.15.7->gapic-google-cloud-speech-v1) (0.2.9)\n",
            "Requirement already satisfied: requests<3.0dev,>=2.13.0 in /usr/local/lib/python3.6/dist-packages (from google-gax<0.16dev,>=0.15.7->gapic-google-cloud-speech-v1) (2.23.0)\n",
            "Requirement already satisfied: future<0.17dev,>=0.16.0 in /usr/local/lib/python3.6/dist-packages (from google-gax<0.16dev,>=0.15.7->gapic-google-cloud-speech-v1) (0.16.0)\n",
            "Requirement already satisfied: google-auth<2.0dev,>=1.0.0 in /usr/local/lib/python3.6/dist-packages (from google-gax<0.16dev,>=0.15.7->gapic-google-cloud-speech-v1) (1.25.0)\n",
            "Requirement already satisfied: pyasn1>=0.1.7 in /usr/local/lib/python3.6/dist-packages (from oauth2client<4.0dev,>=2.0.0->gapic-google-cloud-speech-v1) (0.4.8)\n",
            "Requirement already satisfied: httplib2>=0.9.1 in /usr/local/lib/python3.6/dist-packages (from oauth2client<4.0dev,>=2.0.0->gapic-google-cloud-speech-v1) (0.17.4)\n",
            "Requirement already satisfied: pyasn1-modules>=0.0.5 in /usr/local/lib/python3.6/dist-packages (from oauth2client<4.0dev,>=2.0.0->gapic-google-cloud-speech-v1) (0.2.8)\n",
            "Requirement already satisfied: rsa>=3.1.4 in /usr/local/lib/python3.6/dist-packages (from oauth2client<4.0dev,>=2.0.0->gapic-google-cloud-speech-v1) (4.7)\n",
            "Requirement already satisfied: six>=1.6.1 in /usr/local/lib/python3.6/dist-packages (from oauth2client<4.0dev,>=2.0.0->gapic-google-cloud-speech-v1) (1.15.0)\n",
            "Requirement already satisfied: setuptools in /usr/local/lib/python3.6/dist-packages (from protobuf>=3.6.0->googleapis-common-protos[grpc]<2.0dev,>=1.5.2->gapic-google-cloud-speech-v1) (53.0.0)\n",
            "Requirement already satisfied: urllib3!=1.25.0,!=1.25.1,<1.26,>=1.21.1 in /usr/local/lib/python3.6/dist-packages (from requests<3.0dev,>=2.13.0->google-gax<0.16dev,>=0.15.7->gapic-google-cloud-speech-v1) (1.24.3)\n",
            "Requirement already satisfied: certifi>=2017.4.17 in /usr/local/lib/python3.6/dist-packages (from requests<3.0dev,>=2.13.0->google-gax<0.16dev,>=0.15.7->gapic-google-cloud-speech-v1) (2020.12.5)\n",
            "Requirement already satisfied: chardet<4,>=3.0.2 in /usr/local/lib/python3.6/dist-packages (from requests<3.0dev,>=2.13.0->google-gax<0.16dev,>=0.15.7->gapic-google-cloud-speech-v1) (3.0.4)\n",
            "Requirement already satisfied: idna<3,>=2.5 in /usr/local/lib/python3.6/dist-packages (from requests<3.0dev,>=2.13.0->google-gax<0.16dev,>=0.15.7->gapic-google-cloud-speech-v1) (2.10)\n",
            "Requirement already satisfied: cachetools<5.0,>=2.0.0 in /usr/local/lib/python3.6/dist-packages (from google-auth<2.0dev,>=1.0.0->google-gax<0.16dev,>=0.15.7->gapic-google-cloud-speech-v1) (4.2.1)\n"
          ],
          "name": "stdout"
        }
      ]
    },
    {
      "cell_type": "code",
      "metadata": {
        "id": "H_2iSefHlvG_"
      },
      "source": [
        "import io\r\n",
        "import os\r\n",
        "\"\"\"\r\n",
        "from google.cloud import speech\r\n",
        "#from google.cloud.speech import enums\r\n",
        "from google.cloud.speech import types\"\"\"\r\n",
        "from google.cloud import speech_v1 as speech\r\n",
        "#from google.cloud.speech_v1 import enums\r\n",
        "#from google.cloud.speech_v1.gapic import enums\r\n",
        "from google.cloud.gapic.speech.v1 import enums\r\n",
        "from google.cloud.speech_v1 import types\r\n",
        "\r\n",
        "from IPython.display import Audio"
      ],
      "execution_count": null,
      "outputs": []
    },
    {
      "cell_type": "code",
      "metadata": {
        "id": "7cd7F1-ilvFI"
      },
      "source": [
        "!ls /content/drive/'My Drive'/gcp"
      ],
      "execution_count": null,
      "outputs": []
    },
    {
      "cell_type": "code",
      "metadata": {
        "id": "sozITdOTlu57"
      },
      "source": [
        "os.environ['GOOGLE_APPLICATION_CREDENTIALS'] = '/content/drive/My Drive/gcp/Srivatsan Project-53f1cd2b376e.json'"
      ],
      "execution_count": null,
      "outputs": []
    },
    {
      "cell_type": "code",
      "metadata": {
        "id": "Oj87VM75luod"
      },
      "source": [
        "!echo $GOOGLE_APPLICATION_CREDENTIALS"
      ],
      "execution_count": null,
      "outputs": []
    },
    {
      "cell_type": "code",
      "metadata": {
        "id": "vSu6RffHmHrM"
      },
      "source": [
        "!wget -O speech.wav https://github.com/EN10/DeepSpeech/blob/master/man1_wb.wav?raw=true"
      ],
      "execution_count": null,
      "outputs": []
    },
    {
      "cell_type": "code",
      "metadata": {
        "id": "9qcHv30imHna"
      },
      "source": [
        "Audio('speech.wav')"
      ],
      "execution_count": null,
      "outputs": []
    },
    {
      "cell_type": "code",
      "metadata": {
        "id": "Vy5Ysb8UmHlw"
      },
      "source": [
        "client = speech.SpeechClient()"
      ],
      "execution_count": null,
      "outputs": []
    },
    {
      "cell_type": "code",
      "metadata": {
        "id": "pz8Hzl-BmThT"
      },
      "source": [
        "with io.open('speech.wav', 'rb') as audio_file:\r\n",
        "    content = audio_file.read()\r\n",
        "    audio = types.RecognitionAudio(content=content)"
      ],
      "execution_count": null,
      "outputs": []
    },
    {
      "cell_type": "code",
      "metadata": {
        "id": "iX_nySWWmTeh"
      },
      "source": [
        "config = types.RecognitionConfig(\r\n",
        "    encoding=enums.RecognitionConfig.AudioEncoding.LINEAR16,\r\n",
        "    sample_rate_hertz=16000,\r\n",
        "    language_code='en-US',\r\n",
        "    enable_word_time_offsets=True)"
      ],
      "execution_count": null,
      "outputs": []
    },
    {
      "cell_type": "code",
      "metadata": {
        "id": "bv2qIKJBmTdf"
      },
      "source": [
        "response = client.recognize(config, audio)"
      ],
      "execution_count": null,
      "outputs": []
    },
    {
      "cell_type": "code",
      "metadata": {
        "id": "BdcMKIN8mTZr"
      },
      "source": [
        "for result in response.results:\r\n",
        "    print('Transcript: {}'.format(result.alternatives[0].transcript))"
      ],
      "execution_count": null,
      "outputs": []
    },
    {
      "cell_type": "code",
      "metadata": {
        "id": "pmoNfXV8miU9"
      },
      "source": [
        "for result in response.results:\r\n",
        "    alternative = result.alternatives[0]\r\n",
        "    print(u'Transcript: {}'.format(alternative.transcript))\r\n",
        "\r\n",
        "    for word_info in alternative.words:\r\n",
        "        word = word_info.word\r\n",
        "        start_time = word_info.start_time\r\n",
        "        end_time = word_info.end_time\r\n",
        "        print('Word: {}, start_time: {}, end_time: {}'.format(\r\n",
        "             word,\r\n",
        "             start_time.seconds + start_time.nanos * 1e-9,\r\n",
        "              end_time.seconds + end_time.nanos * 1e-9))"
      ],
      "execution_count": null,
      "outputs": []
    },
    {
      "cell_type": "code",
      "metadata": {
        "id": "zu8tHyp1mh3e"
      },
      "source": [
        ""
      ],
      "execution_count": null,
      "outputs": []
    },
    {
      "cell_type": "markdown",
      "metadata": {
        "id": "xy49mBOtMKtw"
      },
      "source": [
        "Python's Library Implementation"
      ]
    },
    {
      "cell_type": "code",
      "metadata": {
        "colab": {
          "base_uri": "https://localhost:8080/"
        },
        "id": "84YK1RqQMKPo",
        "outputId": "0fe987f8-a4a8-4e20-a2ee-bc5dd4f9d1a9"
      },
      "source": [
        "!pip install SpeechRecognition"
      ],
      "execution_count": null,
      "outputs": [
        {
          "output_type": "stream",
          "text": [
            "Requirement already satisfied: SpeechRecognition in /usr/local/lib/python3.7/dist-packages (3.8.1)\n"
          ],
          "name": "stdout"
        }
      ]
    },
    {
      "cell_type": "code",
      "metadata": {
        "colab": {
          "base_uri": "https://localhost:8080/"
        },
        "id": "FW08HDz8HNQE",
        "outputId": "e0bb2f30-be78-4ba7-c94d-5650242a0792"
      },
      "source": [
        "# Assembly AI\r\n",
        "!pip install assemblyai"
      ],
      "execution_count": null,
      "outputs": [
        {
          "output_type": "stream",
          "text": [
            "Collecting assemblyai\n",
            "  Downloading assemblyai-0.2.7-py2.py3-none-any.whl (7.8 kB)\n",
            "Requirement already satisfied: click>=6.7 in /usr/local/lib/python3.7/dist-packages (from assemblyai) (7.1.2)\n",
            "Requirement already satisfied: requests>=2.18.4 in /usr/local/lib/python3.7/dist-packages (from assemblyai) (2.23.0)\n",
            "Requirement already satisfied: certifi>=2017.4.17 in /usr/local/lib/python3.7/dist-packages (from requests>=2.18.4->assemblyai) (2020.12.5)\n",
            "Requirement already satisfied: chardet<4,>=3.0.2 in /usr/local/lib/python3.7/dist-packages (from requests>=2.18.4->assemblyai) (3.0.4)\n",
            "Requirement already satisfied: urllib3!=1.25.0,!=1.25.1,<1.26,>=1.21.1 in /usr/local/lib/python3.7/dist-packages (from requests>=2.18.4->assemblyai) (1.24.3)\n",
            "Requirement already satisfied: idna<3,>=2.5 in /usr/local/lib/python3.7/dist-packages (from requests>=2.18.4->assemblyai) (2.10)\n",
            "Installing collected packages: assemblyai\n",
            "Successfully installed assemblyai-0.2.7\n"
          ],
          "name": "stdout"
        }
      ]
    },
    {
      "cell_type": "code",
      "metadata": {
        "colab": {
          "base_uri": "https://localhost:8080/"
        },
        "id": "7GMn0mvdGVxO",
        "outputId": "afa8cc4f-db9b-4872-9ee2-e175aa829e1c"
      },
      "source": [
        "# CMU Sphinx\r\n",
        "!apt-get install -y swig libpulse-dev\r\n",
        "!pip install pocketsphinx"
      ],
      "execution_count": null,
      "outputs": [
        {
          "output_type": "stream",
          "text": [
            "Reading package lists... Done\n",
            "Building dependency tree       \n",
            "Reading state information... Done\n",
            "The following additional packages will be installed:\n",
            "  libpulse-mainloop-glib0 swig3.0\n",
            "Suggested packages:\n",
            "  swig-doc swig-examples swig3.0-examples swig3.0-doc\n",
            "The following NEW packages will be installed:\n",
            "  libpulse-dev libpulse-mainloop-glib0 swig swig3.0\n",
            "0 upgraded, 4 newly installed, 0 to remove and 13 not upgraded.\n",
            "Need to get 1,204 kB of archives.\n",
            "After this operation, 6,540 kB of additional disk space will be used.\n",
            "Get:1 http://archive.ubuntu.com/ubuntu bionic-updates/main amd64 libpulse-mainloop-glib0 amd64 1:11.1-1ubuntu7.11 [22.1 kB]\n",
            "Get:2 http://archive.ubuntu.com/ubuntu bionic-updates/main amd64 libpulse-dev amd64 1:11.1-1ubuntu7.11 [81.5 kB]\n",
            "Get:3 http://archive.ubuntu.com/ubuntu bionic/universe amd64 swig3.0 amd64 3.0.12-1 [1,094 kB]\n",
            "Get:4 http://archive.ubuntu.com/ubuntu bionic/universe amd64 swig amd64 3.0.12-1 [6,460 B]\n",
            "Fetched 1,204 kB in 1s (1,106 kB/s)\n",
            "Selecting previously unselected package libpulse-mainloop-glib0:amd64.\n",
            "(Reading database ... 149406 files and directories currently installed.)\n",
            "Preparing to unpack .../libpulse-mainloop-glib0_1%3a11.1-1ubuntu7.11_amd64.deb ...\n",
            "Unpacking libpulse-mainloop-glib0:amd64 (1:11.1-1ubuntu7.11) ...\n",
            "Selecting previously unselected package libpulse-dev:amd64.\n",
            "Preparing to unpack .../libpulse-dev_1%3a11.1-1ubuntu7.11_amd64.deb ...\n",
            "Unpacking libpulse-dev:amd64 (1:11.1-1ubuntu7.11) ...\n",
            "Selecting previously unselected package swig3.0.\n",
            "Preparing to unpack .../swig3.0_3.0.12-1_amd64.deb ...\n",
            "Unpacking swig3.0 (3.0.12-1) ...\n",
            "Selecting previously unselected package swig.\n",
            "Preparing to unpack .../swig_3.0.12-1_amd64.deb ...\n",
            "Unpacking swig (3.0.12-1) ...\n",
            "Setting up libpulse-mainloop-glib0:amd64 (1:11.1-1ubuntu7.11) ...\n",
            "Setting up libpulse-dev:amd64 (1:11.1-1ubuntu7.11) ...\n",
            "Setting up swig3.0 (3.0.12-1) ...\n",
            "Setting up swig (3.0.12-1) ...\n",
            "Processing triggers for man-db (2.8.3-2ubuntu0.1) ...\n",
            "Processing triggers for libc-bin (2.27-3ubuntu1.4) ...\n",
            "/sbin/ldconfig.real: /usr/local/lib/python3.7/dist-packages/ideep4py/lib/libmkldnn.so.0 is not a symbolic link\n",
            "\n"
          ],
          "name": "stdout"
        }
      ]
    },
    {
      "cell_type": "code",
      "metadata": {
        "colab": {
          "base_uri": "https://localhost:8080/"
        },
        "id": "pfw7yPpiMkbw",
        "outputId": "1205c158-eed6-4955-9b0c-3dd9e64761eb"
      },
      "source": [
        "#import library\r\n",
        "import speech_recognition as sr\r\n",
        "\r\n",
        "# Initialize recognizer class (for recognizing the speech)\r\n",
        "r = sr.Recognizer()\r\n",
        "\r\n",
        "# Reading Audio file as source\r\n",
        "# listening the audio file and store in audio_text variable\r\n",
        "\r\n",
        "with sr.AudioFile('demo_speech2txt.wav') as source:\r\n",
        "    r.adjust_for_ambient_noise(source )#, duration=0.5) # some adjustment for noise\r\n",
        "    audio_text = r.record(source)\r\n",
        "\r\n",
        "# recoginize_() method will throw a request error if the API is unreachable, hence using exception handling\r\n",
        "    try:\r\n",
        "        \r\n",
        "        # using google speech recognition\r\n",
        "        text = r.recognize_google(audio_text)\r\n",
        "        #text = r.recognize_sphinx(audio_text)\r\n",
        "        print('Converting audio transcripts into text ...')\r\n",
        "        print(text)\r\n",
        "     \r\n",
        "    except:\r\n",
        "         print('Sorry.. run again...')"
      ],
      "execution_count": null,
      "outputs": [
        {
          "output_type": "stream",
          "text": [
            "Converting audio transcripts into text ...\n",
            "hi my name is animated every and I am a student at IIT guwahati\n"
          ],
          "name": "stdout"
        }
      ]
    },
    {
      "cell_type": "code",
      "metadata": {
        "id": "Exc8jL5yPcew",
        "colab": {
          "base_uri": "https://localhost:8080/"
        },
        "outputId": "4c5a6f50-8078-479c-9d8b-2ae1a131c2fb"
      },
      "source": [
        "dir(r)"
      ],
      "execution_count": null,
      "outputs": [
        {
          "output_type": "execute_result",
          "data": {
            "text/plain": [
              "['__class__',\n",
              " '__delattr__',\n",
              " '__dict__',\n",
              " '__dir__',\n",
              " '__doc__',\n",
              " '__enter__',\n",
              " '__eq__',\n",
              " '__exit__',\n",
              " '__format__',\n",
              " '__ge__',\n",
              " '__getattribute__',\n",
              " '__gt__',\n",
              " '__hash__',\n",
              " '__init__',\n",
              " '__init_subclass__',\n",
              " '__le__',\n",
              " '__lt__',\n",
              " '__module__',\n",
              " '__ne__',\n",
              " '__new__',\n",
              " '__reduce__',\n",
              " '__reduce_ex__',\n",
              " '__repr__',\n",
              " '__setattr__',\n",
              " '__sizeof__',\n",
              " '__str__',\n",
              " '__subclasshook__',\n",
              " '__weakref__',\n",
              " 'adjust_for_ambient_noise',\n",
              " 'dynamic_energy_adjustment_damping',\n",
              " 'dynamic_energy_ratio',\n",
              " 'dynamic_energy_threshold',\n",
              " 'energy_threshold',\n",
              " 'listen',\n",
              " 'listen_in_background',\n",
              " 'non_speaking_duration',\n",
              " 'operation_timeout',\n",
              " 'pause_threshold',\n",
              " 'phrase_threshold',\n",
              " 'recognize_api',\n",
              " 'recognize_bing',\n",
              " 'recognize_google',\n",
              " 'recognize_google_cloud',\n",
              " 'recognize_houndify',\n",
              " 'recognize_ibm',\n",
              " 'recognize_sphinx',\n",
              " 'recognize_wit',\n",
              " 'record',\n",
              " 'snowboy_wait_for_hot_word']"
            ]
          },
          "metadata": {
            "tags": []
          },
          "execution_count": 19
        }
      ]
    },
    {
      "cell_type": "code",
      "metadata": {
        "id": "41GQdCDGIRit"
      },
      "source": [
        ""
      ],
      "execution_count": null,
      "outputs": []
    }
  ]
}