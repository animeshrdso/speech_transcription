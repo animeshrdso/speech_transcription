{
  "nbformat": 4,
  "nbformat_minor": 0,
  "metadata": {
    "kernelspec": {
      "display_name": "Python 3",
      "language": "python",
      "name": "python3"
    },
    "language_info": {
      "codemirror_mode": {
        "name": "ipython",
        "version": 3
      },
      "file_extension": ".py",
      "mimetype": "text/x-python",
      "name": "python",
      "nbconvert_exporter": "python",
      "pygments_lexer": "ipython3",
      "version": "3.5.2"
    },
    "colab": {
      "name": "AWS_Speech2Txt_diarization.ipynb",
      "provenance": [],
      "collapsed_sections": []
    }
  },
  "cells": [
    {
      "cell_type": "markdown",
      "metadata": {
        "id": "mxBGtiv4GYNB"
      },
      "source": [
        "This notebook can be used to create an API client on AWS platform and then use a bucket for transcription of audio speech files (.wav format) using Speaker diarization for multiple speakers."
      ]
    },
    {
      "cell_type": "code",
      "metadata": {
        "colab": {
          "base_uri": "https://localhost:8080/"
        },
        "id": "c-CM5h_IErMC",
        "outputId": "8f2ecc7c-3eb1-494a-c2c0-3a2aae536345"
      },
      "source": [
        "from google.colab import drive\r\n",
        "drive.mount('/content/gdrive')"
      ],
      "execution_count": 1,
      "outputs": [
        {
          "output_type": "stream",
          "text": [
            "Mounted at /content/gdrive\n"
          ],
          "name": "stdout"
        }
      ]
    },
    {
      "cell_type": "code",
      "metadata": {
        "colab": {
          "base_uri": "https://localhost:8080/"
        },
        "id": "UlW5WYMQErDq",
        "outputId": "cfe68d61-0217-41e8-87ff-2da01acd263a"
      },
      "source": [
        "%cd /content/gdrive/My Drive/speech2text/"
      ],
      "execution_count": 2,
      "outputs": [
        {
          "output_type": "stream",
          "text": [
            "/content/gdrive/My Drive/speech2text\n"
          ],
          "name": "stdout"
        }
      ]
    },
    {
      "cell_type": "code",
      "metadata": {
        "collapsed": true,
        "id": "3-AvYNnvEnXL"
      },
      "source": [
        "filepath = \"~/audio_wav/\"\n",
        "output_filepath = \"~/Transcripts/\""
      ],
      "execution_count": null,
      "outputs": []
    },
    {
      "cell_type": "code",
      "metadata": {
        "collapsed": true,
        "id": "yhOVPx6zEnXO"
      },
      "source": [
        "from __future__ import print_function\n",
        "import time\n",
        "import boto3\n",
        "import json\n",
        "import os\n",
        "import botocore\n",
        "\n",
        "bucketName = \"audiofiles\""
      ],
      "execution_count": null,
      "outputs": []
    },
    {
      "cell_type": "code",
      "metadata": {
        "collapsed": true,
        "id": "t-BlVAvwEnXP"
      },
      "source": [
        "def upload_file_to_s3(audio_file_name):\n",
        "    \n",
        "    Key = filepath + audio_file_name\n",
        "    outPutname = audio_file_name\n",
        "\n",
        "    s3 = boto3.client('s3')\n",
        "    s3.upload_file(Key,bucketName,outPutname)"
      ],
      "execution_count": null,
      "outputs": []
    },
    {
      "cell_type": "code",
      "metadata": {
        "collapsed": true,
        "id": "JDPoCThUEnXP"
      },
      "source": [
        "def download_file_from_s3(audio_file_name):\n",
        "    \n",
        "    s3 = boto3.resource('s3')\n",
        "    \n",
        "    Key = outPutname = audio_file_name.split('.')[0] + '.json'\n",
        "    \n",
        "    try:\n",
        "        s3.Bucket(bucketName).download_file(Key, outPutname)\n",
        "    except botocore.exceptions.ClientError as e:\n",
        "        if e.response['Error']['Code'] == \"404\":\n",
        "            print(\"The object does not exist.\")\n",
        "        else:\n",
        "            raise"
      ],
      "execution_count": null,
      "outputs": []
    },
    {
      "cell_type": "code",
      "metadata": {
        "collapsed": true,
        "id": "xXlcEpRaEnXQ"
      },
      "source": [
        "def delete_file_from_s3(audio_file_name):\n",
        "    \n",
        "    s3 = boto3.resource('s3')\n",
        "    s3.Object(bucketName, audio_file_name).delete()\n",
        "    s3.Object(bucketName, audio_file_name.split('.')[0] + '.json').delete()"
      ],
      "execution_count": null,
      "outputs": []
    },
    {
      "cell_type": "code",
      "metadata": {
        "collapsed": true,
        "id": "arjTTxwNEnXQ"
      },
      "source": [
        "def transcribe(audio_file_name):\n",
        "    \n",
        "    transcripts = ''\n",
        "    \n",
        "    upload_file_to_s3(audio_file_name)\n",
        "    \n",
        "    transcribe = boto3.client('transcribe', region_name='us-east-2')\n",
        "    job_name = audio_file_name.split('.')[0]\n",
        "    job_uri = \"https://s3.us-east-2.amazonaws.com/\" + bucketName + \"/\" + audio_file_name\n",
        "    transcribe.start_transcription_job(\n",
        "        TranscriptionJobName=job_name,\n",
        "        Media={'MediaFileUri': job_uri},\n",
        "        MediaFormat='wav',\n",
        "        LanguageCode='en-US',\n",
        "        Settings={'MaxSpeakerLabels':2,'ShowSpeakerLabels':True},\n",
        "        OutputBucketName=bucketName\n",
        "    )\n",
        "    while True:\n",
        "        status = transcribe.get_transcription_job(TranscriptionJobName=job_name)\n",
        "        if status['TranscriptionJob']['TranscriptionJobStatus'] in ['COMPLETED', 'FAILED']:\n",
        "            break\n",
        "        time.sleep(5)\n",
        "    \n",
        "    download_file_from_s3(audio_file_name)\n",
        "    \n",
        "    transcribe.delete_transcription_job(TranscriptionJobName=job_name)\n",
        "    \n",
        "    delete_file_from_s3(audio_file_name)\n",
        "    \n",
        "    with open(audio_file_name.split('.')[0] + '.json') as f:\n",
        "        text = json.load(f)\n",
        "    \n",
        "    for i in text['results']['transcripts']:\n",
        "        transcripts += i['transcript']\n",
        "    \n",
        "    #os.remove(audio_file_name.split('.')[0] + '.json')\n",
        "    \n",
        "    return transcripts"
      ],
      "execution_count": null,
      "outputs": []
    },
    {
      "cell_type": "code",
      "metadata": {
        "collapsed": true,
        "id": "R8uzn1-tEnXR"
      },
      "source": [
        "def write_transcripts(transcript_filename,transcript):\n",
        "    f= open(output_filepath + transcript_filename,\"w+\")\n",
        "    f.write(transcript)\n",
        "    f.close() "
      ],
      "execution_count": null,
      "outputs": []
    },
    {
      "cell_type": "code",
      "metadata": {
        "id": "xK0b5jOnEnXR"
      },
      "source": [
        "if __name__ == \"__main__\":\n",
        "    files = [f for f in os.listdir(filepath) if f.endswith(\".wav\")]\n",
        "    for audio_file_name in files:\n",
        "        exists = os.path.isfile(output_filepath + audio_file_name.split('.')[0] + '.txt')\n",
        "        if exists:\n",
        "            pass\n",
        "        else:\n",
        "            print(audio_file_name)\n",
        "            transcript = transcribe(audio_file_name)\n",
        "            transcript_filename = audio_file_name.split('.')[0] + '.txt'\n",
        "            write_transcripts(transcript_filename,transcript)"
      ],
      "execution_count": null,
      "outputs": []
    },
    {
      "cell_type": "code",
      "metadata": {
        "collapsed": true,
        "id": "TDfZlVGcEnXS"
      },
      "source": [
        ""
      ],
      "execution_count": null,
      "outputs": []
    }
  ]
}